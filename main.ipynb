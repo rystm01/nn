{
 "cells": [
  {
   "cell_type": "code",
   "execution_count": 19,
   "metadata": {},
   "outputs": [
    {
     "name": "stdout",
     "output_type": "stream",
     "text": [
      "<neural_net.NeuralNet object at 0x000001AC3F7A4D90>\n",
      "[[-2.87677537 -1.89379322  4.3474182 ]\n",
      " [ 2.32206905 -2.34972149 -2.34882299]\n",
      " [-2.33660887  2.0855234   0.25850995]]\n",
      "[[-0.18575305  1.2019427  -3.54271446]\n",
      " [ 0.34047036  2.40509373  1.49216007]\n",
      " [-1.46332343 -0.51401278 -3.38976788]]\n"
     ]
    },
    {
     "ename": "ValueError",
     "evalue": "shapes (3,3) and (1,) not aligned: 3 (dim 1) != 1 (dim 0)",
     "output_type": "error",
     "traceback": [
      "\u001b[1;31m---------------------------------------------------------------------------\u001b[0m",
      "\u001b[1;31mValueError\u001b[0m                                Traceback (most recent call last)",
      "Cell \u001b[1;32mIn[19], line 11\u001b[0m\n\u001b[0;32m      8\u001b[0m \u001b[38;5;28mprint\u001b[39m(nn\u001b[38;5;241m.\u001b[39mwh_i)\n\u001b[0;32m      9\u001b[0m \u001b[38;5;28mprint\u001b[39m(nn\u001b[38;5;241m.\u001b[39mwh_o)\n\u001b[1;32m---> 11\u001b[0m \u001b[38;5;28mprint\u001b[39m(nn\u001b[38;5;241m.\u001b[39mpredict([\u001b[38;5;241m1\u001b[39m]))\n\u001b[0;32m     13\u001b[0m nn\u001b[38;5;241m.\u001b[39mtrain([\u001b[38;5;241m1\u001b[39m, \u001b[38;5;241m2\u001b[39m, \u001b[38;5;241m3\u001b[39m], [\u001b[38;5;241m2\u001b[39m, \u001b[38;5;241m1\u001b[39m, \u001b[38;5;241m3\u001b[39m])\n",
      "File \u001b[1;32mc:\\Users\\ryans\\OneDrive\\Documents\\aaSpring2025\\nn\\neural_net.py:48\u001b[0m, in \u001b[0;36mNeuralNet.predict\u001b[1;34m(self, inputs)\u001b[0m\n\u001b[0;32m     47\u001b[0m \u001b[38;5;28;01mdef\u001b[39;00m \u001b[38;5;21mpredict\u001b[39m(\u001b[38;5;28mself\u001b[39m, inputs):\n\u001b[1;32m---> 48\u001b[0m   hidden_inputs \u001b[38;5;241m=\u001b[39m numpy\u001b[38;5;241m.\u001b[39mdot(\u001b[38;5;28mself\u001b[39m\u001b[38;5;241m.\u001b[39mwh_i, inputs)\n\u001b[0;32m     50\u001b[0m   hidden_outputs \u001b[38;5;241m=\u001b[39m \u001b[38;5;28mself\u001b[39m\u001b[38;5;241m.\u001b[39mactivation_function(hidden_inputs)\n\u001b[0;32m     52\u001b[0m   final_inputs \u001b[38;5;241m=\u001b[39m numpy\u001b[38;5;241m.\u001b[39mdot(\u001b[38;5;28mself\u001b[39m\u001b[38;5;241m.\u001b[39mwh_o, hidden_outputs)\n",
      "File \u001b[1;32m<__array_function__ internals>:200\u001b[0m, in \u001b[0;36mdot\u001b[1;34m(*args, **kwargs)\u001b[0m\n",
      "\u001b[1;31mValueError\u001b[0m: shapes (3,3) and (1,) not aligned: 3 (dim 1) != 1 (dim 0)"
     ]
    }
   ],
   "source": [
    "from neural_net import NeuralNet\n",
    "import numpy as np\n",
    "\n",
    "\n",
    "nn = NeuralNet(3, 3, 3, 1)\n",
    "\n",
    "print(nn)\n",
    "print(nn.wh_i)\n",
    "print(nn.wh_o)\n",
    "\n",
    "print(nn.predict([1]))\n",
    "\n",
    "nn.train([1, 2, 3], [2, 1, 3])"
   ]
  },
  {
   "cell_type": "code",
   "execution_count": 2,
   "metadata": {},
   "outputs": [],
   "source": [
    "with open('data/mnist_train.csv', 'r') as file:\n",
    "  train_d = file.readlines()\n",
    "\n",
    "with open('data/mnist_test.csv', 'r') as file:\n",
    "  test_d = file.readlines()\n",
    "\n",
    "# print(train_d[:10])\n",
    "# print(test_d[:10])\n",
    "\n"
   ]
  },
  {
   "cell_type": "code",
   "execution_count": null,
   "metadata": {},
   "outputs": [],
   "source": [
    "\n",
    "# Convert a few images from str to ints\n",
    "train = [x.split(\",\") for x in train_d[:100]]\n",
    "train = [[int(x) for x in img] for img in train]\n",
    "\n",
    "test = [x.split(\",\") for x in train_d[:100]]\n",
    "test = [[int(x) for x in img] for img in test]\n"
   ]
  },
  {
   "cell_type": "code",
   "execution_count": 31,
   "metadata": {},
   "outputs": [
    {
     "name": "stdout",
     "output_type": "stream",
     "text": [
      "[[0.   0.   0.   0.   0.   0.99 0.   0.   0.   0.  ]\n",
      " [0.99 0.   0.   0.   0.   0.   0.   0.   0.   0.  ]\n",
      " [0.   0.   0.   0.   0.99 0.   0.   0.   0.   0.  ]\n",
      " [0.   0.99 0.   0.   0.   0.   0.   0.   0.   0.  ]\n",
      " [0.   0.   0.   0.   0.   0.   0.   0.   0.   0.99]\n",
      " [0.   0.   0.99 0.   0.   0.   0.   0.   0.   0.  ]\n",
      " [0.   0.99 0.   0.   0.   0.   0.   0.   0.   0.  ]\n",
      " [0.   0.   0.   0.99 0.   0.   0.   0.   0.   0.  ]\n",
      " [0.   0.99 0.   0.   0.   0.   0.   0.   0.   0.  ]\n",
      " [0.   0.   0.   0.   0.99 0.   0.   0.   0.   0.  ]\n",
      " [0.   0.   0.   0.99 0.   0.   0.   0.   0.   0.  ]\n",
      " [0.   0.   0.   0.   0.   0.99 0.   0.   0.   0.  ]\n",
      " [0.   0.   0.   0.99 0.   0.   0.   0.   0.   0.  ]\n",
      " [0.   0.   0.   0.   0.   0.   0.99 0.   0.   0.  ]\n",
      " [0.   0.99 0.   0.   0.   0.   0.   0.   0.   0.  ]\n",
      " [0.   0.   0.   0.   0.   0.   0.   0.99 0.   0.  ]\n",
      " [0.   0.   0.99 0.   0.   0.   0.   0.   0.   0.  ]\n",
      " [0.   0.   0.   0.   0.   0.   0.   0.   0.99 0.  ]\n",
      " [0.   0.   0.   0.   0.   0.   0.99 0.   0.   0.  ]\n",
      " [0.   0.   0.   0.   0.   0.   0.   0.   0.   0.99]\n",
      " [0.   0.   0.   0.   0.99 0.   0.   0.   0.   0.  ]\n",
      " [0.99 0.   0.   0.   0.   0.   0.   0.   0.   0.  ]\n",
      " [0.   0.   0.   0.   0.   0.   0.   0.   0.   0.99]\n",
      " [0.   0.99 0.   0.   0.   0.   0.   0.   0.   0.  ]\n",
      " [0.   0.99 0.   0.   0.   0.   0.   0.   0.   0.  ]\n",
      " [0.   0.   0.99 0.   0.   0.   0.   0.   0.   0.  ]\n",
      " [0.   0.   0.   0.   0.99 0.   0.   0.   0.   0.  ]\n",
      " [0.   0.   0.   0.99 0.   0.   0.   0.   0.   0.  ]\n",
      " [0.   0.   0.99 0.   0.   0.   0.   0.   0.   0.  ]\n",
      " [0.   0.   0.   0.   0.   0.   0.   0.99 0.   0.  ]\n",
      " [0.   0.   0.   0.99 0.   0.   0.   0.   0.   0.  ]\n",
      " [0.   0.   0.   0.   0.   0.   0.   0.   0.99 0.  ]\n",
      " [0.   0.   0.   0.   0.   0.   0.99 0.   0.   0.  ]\n",
      " [0.   0.   0.   0.   0.   0.   0.   0.   0.   0.99]\n",
      " [0.99 0.   0.   0.   0.   0.   0.   0.   0.   0.  ]\n",
      " [0.   0.   0.   0.   0.   0.99 0.   0.   0.   0.  ]\n",
      " [0.   0.   0.   0.   0.   0.   0.99 0.   0.   0.  ]\n",
      " [0.99 0.   0.   0.   0.   0.   0.   0.   0.   0.  ]\n",
      " [0.   0.   0.   0.   0.   0.   0.   0.99 0.   0.  ]\n",
      " [0.   0.   0.   0.   0.   0.   0.99 0.   0.   0.  ]\n",
      " [0.   0.99 0.   0.   0.   0.   0.   0.   0.   0.  ]\n",
      " [0.   0.   0.   0.   0.   0.   0.   0.   0.99 0.  ]\n",
      " [0.   0.   0.   0.   0.   0.   0.   0.99 0.   0.  ]\n",
      " [0.   0.   0.   0.   0.   0.   0.   0.   0.   0.99]\n",
      " [0.   0.   0.   0.99 0.   0.   0.   0.   0.   0.  ]\n",
      " [0.   0.   0.   0.   0.   0.   0.   0.   0.   0.99]\n",
      " [0.   0.   0.   0.   0.   0.   0.   0.   0.99 0.  ]\n",
      " [0.   0.   0.   0.   0.   0.99 0.   0.   0.   0.  ]\n",
      " [0.   0.   0.   0.   0.   0.   0.   0.   0.   0.99]\n",
      " [0.   0.   0.   0.99 0.   0.   0.   0.   0.   0.  ]\n",
      " [0.   0.   0.   0.99 0.   0.   0.   0.   0.   0.  ]\n",
      " [0.99 0.   0.   0.   0.   0.   0.   0.   0.   0.  ]\n",
      " [0.   0.   0.   0.   0.   0.   0.   0.99 0.   0.  ]\n",
      " [0.   0.   0.   0.   0.99 0.   0.   0.   0.   0.  ]\n",
      " [0.   0.   0.   0.   0.   0.   0.   0.   0.   0.99]\n",
      " [0.   0.   0.   0.   0.   0.   0.   0.   0.99 0.  ]\n",
      " [0.99 0.   0.   0.   0.   0.   0.   0.   0.   0.  ]\n",
      " [0.   0.   0.   0.   0.   0.   0.   0.   0.   0.99]\n",
      " [0.   0.   0.   0.   0.99 0.   0.   0.   0.   0.  ]\n",
      " [0.   0.99 0.   0.   0.   0.   0.   0.   0.   0.  ]\n",
      " [0.   0.   0.   0.   0.99 0.   0.   0.   0.   0.  ]\n",
      " [0.   0.   0.   0.   0.99 0.   0.   0.   0.   0.  ]\n",
      " [0.   0.   0.   0.   0.   0.   0.99 0.   0.   0.  ]\n",
      " [0.99 0.   0.   0.   0.   0.   0.   0.   0.   0.  ]\n",
      " [0.   0.   0.   0.   0.99 0.   0.   0.   0.   0.  ]\n",
      " [0.   0.   0.   0.   0.   0.99 0.   0.   0.   0.  ]\n",
      " [0.   0.   0.   0.   0.   0.   0.99 0.   0.   0.  ]\n",
      " [0.   0.99 0.   0.   0.   0.   0.   0.   0.   0.  ]\n",
      " [0.99 0.   0.   0.   0.   0.   0.   0.   0.   0.  ]\n",
      " [0.99 0.   0.   0.   0.   0.   0.   0.   0.   0.  ]\n",
      " [0.   0.99 0.   0.   0.   0.   0.   0.   0.   0.  ]\n",
      " [0.   0.   0.   0.   0.   0.   0.   0.99 0.   0.  ]\n",
      " [0.   0.99 0.   0.   0.   0.   0.   0.   0.   0.  ]\n",
      " [0.   0.   0.   0.   0.   0.   0.99 0.   0.   0.  ]\n",
      " [0.   0.   0.   0.99 0.   0.   0.   0.   0.   0.  ]\n",
      " [0.99 0.   0.   0.   0.   0.   0.   0.   0.   0.  ]\n",
      " [0.   0.   0.99 0.   0.   0.   0.   0.   0.   0.  ]\n",
      " [0.   0.99 0.   0.   0.   0.   0.   0.   0.   0.  ]\n",
      " [0.   0.99 0.   0.   0.   0.   0.   0.   0.   0.  ]\n",
      " [0.   0.   0.   0.   0.   0.   0.   0.99 0.   0.  ]\n",
      " [0.   0.   0.   0.   0.   0.   0.   0.   0.   0.99]\n",
      " [0.99 0.   0.   0.   0.   0.   0.   0.   0.   0.  ]\n",
      " [0.   0.   0.99 0.   0.   0.   0.   0.   0.   0.  ]\n",
      " [0.   0.   0.   0.   0.   0.   0.99 0.   0.   0.  ]\n",
      " [0.   0.   0.   0.   0.   0.   0.   0.99 0.   0.  ]\n",
      " [0.   0.   0.   0.   0.   0.   0.   0.   0.99 0.  ]\n",
      " [0.   0.   0.   0.99 0.   0.   0.   0.   0.   0.  ]\n",
      " [0.   0.   0.   0.   0.   0.   0.   0.   0.   0.99]\n",
      " [0.99 0.   0.   0.   0.   0.   0.   0.   0.   0.  ]\n",
      " [0.   0.   0.   0.   0.99 0.   0.   0.   0.   0.  ]\n",
      " [0.   0.   0.   0.   0.   0.   0.99 0.   0.   0.  ]\n",
      " [0.   0.   0.   0.   0.   0.   0.   0.99 0.   0.  ]\n",
      " [0.   0.   0.   0.   0.99 0.   0.   0.   0.   0.  ]\n",
      " [0.   0.   0.   0.   0.   0.   0.99 0.   0.   0.  ]\n",
      " [0.   0.   0.   0.   0.   0.   0.   0.   0.99 0.  ]\n",
      " [0.99 0.   0.   0.   0.   0.   0.   0.   0.   0.  ]\n",
      " [0.   0.   0.   0.   0.   0.   0.   0.99 0.   0.  ]\n",
      " [0.   0.   0.   0.   0.   0.   0.   0.   0.99 0.  ]\n",
      " [0.   0.   0.   0.99 0.   0.   0.   0.   0.   0.  ]\n",
      " [0.   0.99 0.   0.   0.   0.   0.   0.   0.   0.  ]]\n"
     ]
    }
   ],
   "source": [
    "train_digs = [x[0] for x in train]\n",
    "train_imgs = [x[1:] for x in train]\n",
    "\n",
    "scaled_imgs = (np.asfarray(train_digs) / 255 * .99) + .01\n",
    "\n",
    "all_targets = np.array([np.zeros(10) for _ in range(100)])\n",
    "i = 0\n",
    "for dig in train_digs:\n",
    "  all_targets[i][dig] = .99\n",
    "  i+=1\n",
    "\n",
    "\n",
    "print(all_targets)\n",
    "\n",
    "\n",
    "\n"
   ]
  },
  {
   "cell_type": "code",
   "execution_count": 33,
   "metadata": {},
   "outputs": [
    {
     "ename": "ValueError",
     "evalue": "shapes (392,784) and (100,) not aligned: 784 (dim 1) != 100 (dim 0)",
     "output_type": "error",
     "traceback": [
      "\u001b[1;31m---------------------------------------------------------------------------\u001b[0m",
      "\u001b[1;31mValueError\u001b[0m                                Traceback (most recent call last)",
      "Cell \u001b[1;32mIn[33], line 6\u001b[0m\n\u001b[0;32m      3\u001b[0m hidden_n \u001b[38;5;241m=\u001b[39m \u001b[38;5;28mint\u001b[39m(\u001b[38;5;241m784\u001b[39m\u001b[38;5;241m/\u001b[39m\u001b[38;5;241m2\u001b[39m)\n\u001b[0;32m      4\u001b[0m nn \u001b[38;5;241m=\u001b[39m NeuralNet(input_n, output_n, hidden_n, \u001b[38;5;241m1\u001b[39m)\n\u001b[1;32m----> 6\u001b[0m nn\u001b[38;5;241m.\u001b[39mtrain(scaled_imgs, all_targets)\n",
      "File \u001b[1;32mc:\\Users\\ryans\\OneDrive\\Documents\\aaSpring2025\\nn\\neural_net.py:34\u001b[0m, in \u001b[0;36mNeuralNet.train\u001b[1;34m(self, inputs, targets)\u001b[0m\n\u001b[0;32m     31\u001b[0m targets_ \u001b[38;5;241m=\u001b[39m numpy\u001b[38;5;241m.\u001b[39marray(targets, ndmin\u001b[38;5;241m=\u001b[39m\u001b[38;5;241m2\u001b[39m)\n\u001b[0;32m     33\u001b[0m \u001b[38;5;66;03m# predict\u001b[39;00m\n\u001b[1;32m---> 34\u001b[0m hidden_inputs \u001b[38;5;241m=\u001b[39m numpy\u001b[38;5;241m.\u001b[39mdot(\u001b[38;5;28mself\u001b[39m\u001b[38;5;241m.\u001b[39mwh_i, inputs)\n\u001b[0;32m     35\u001b[0m hidden_outputs \u001b[38;5;241m=\u001b[39m \u001b[38;5;28mself\u001b[39m\u001b[38;5;241m.\u001b[39mactivation_function(hidden_inputs)\n\u001b[0;32m     36\u001b[0m final_inputs \u001b[38;5;241m=\u001b[39m numpy\u001b[38;5;241m.\u001b[39mdot(\u001b[38;5;28mself\u001b[39m\u001b[38;5;241m.\u001b[39mwh_o, hidden_outputs)\n",
      "File \u001b[1;32m<__array_function__ internals>:200\u001b[0m, in \u001b[0;36mdot\u001b[1;34m(*args, **kwargs)\u001b[0m\n",
      "\u001b[1;31mValueError\u001b[0m: shapes (392,784) and (100,) not aligned: 784 (dim 1) != 100 (dim 0)"
     ]
    }
   ],
   "source": [
    "input_n = 784\n",
    "output_n = 10\n",
    "hidden_n = int(784/2)\n",
    "nn = NeuralNet(input_n, output_n, hidden_n, 1)\n",
    "\n",
    "nn.train(scaled_imgs, all_targets)"
   ]
  }
 ],
 "metadata": {
  "kernelspec": {
   "display_name": "base",
   "language": "python",
   "name": "python3"
  },
  "language_info": {
   "codemirror_mode": {
    "name": "ipython",
    "version": 3
   },
   "file_extension": ".py",
   "mimetype": "text/x-python",
   "name": "python",
   "nbconvert_exporter": "python",
   "pygments_lexer": "ipython3",
   "version": "3.11.4"
  }
 },
 "nbformat": 4,
 "nbformat_minor": 2
}
